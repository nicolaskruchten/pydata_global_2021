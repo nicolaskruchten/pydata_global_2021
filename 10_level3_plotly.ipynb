{
 "cells": [
  {
   "cell_type": "markdown",
   "id": "ac618e2b-d503-44f4-b81c-8ee6cf708bc8",
   "metadata": {},
   "source": [
    "From https://plotly.com/python/parallel-categories-diagram/#parallel-categories-with-multicolor-linked-brushing"
   ]
  },
  {
   "cell_type": "code",
   "execution_count": 6,
   "id": "7a8bf282-bef9-4e0a-98e3-055935a0f943",
   "metadata": {},
   "outputs": [
    {
     "data": {
      "application/vnd.jupyter.widget-view+json": {
       "model_id": "b11db4a2e54048dea2fc73969cefb9fe",
       "version_major": 2,
       "version_minor": 0
      },
      "text/plain": [
       "VBox(children=(ToggleButtons(description='Brush Color:', index=1, options=('None', 'Red', 'Blue'), value='Red'…"
      ]
     },
     "metadata": {},
     "output_type": "display_data"
    }
   ],
   "source": [
    "import plotly.graph_objects as go\n",
    "import ipywidgets as widgets\n",
    "import pandas as pd\n",
    "import numpy as np\n",
    "\n",
    "cars_df = pd.read_csv('https://raw.githubusercontent.com/plotly/datasets/master/imports-85.csv')\n",
    "\n",
    "# Build parcats dimensions\n",
    "categorical_dimensions = ['drive-wheels', 'body-style', 'fuel-type']\n",
    "\n",
    "dimensions = [dict(values=cars_df[label], label=label) for label in categorical_dimensions]\n",
    "\n",
    "# Build colorscale\n",
    "color = np.zeros(len(cars_df), dtype='uint8')\n",
    "colorscale = [[0, 'gray'], [0.33, 'gray'],\n",
    "              [0.33, 'firebrick'], [0.66, 'firebrick'],\n",
    "              [0.66, 'blue'], [1.0, 'blue']]\n",
    "cmin = -0.5\n",
    "cmax = 2.5\n",
    "\n",
    "# Build figure as FigureWidget\n",
    "fig = go.FigureWidget(\n",
    "    data=[go.Scatter(x=cars_df.horsepower, y=cars_df['highway-mpg'],\n",
    "                marker={'color': color, 'cmin': cmin, 'cmax': cmax,\n",
    "                        'colorscale': colorscale, 'showscale': False},\n",
    "                     mode='markers', text=cars_df['make']),\n",
    "      go.Parcats(domain={'x': [0, 0.45]}, dimensions=dimensions,\n",
    "                   line={'colorscale': colorscale, 'cmin': cmin,\n",
    "                   'cmax': cmax, 'color': color, 'shape': 'hspline'})]\n",
    ").update_layout(height=600, xaxis={'title': 'Horsepower', 'domain': [0.55, 1]},\n",
    "                  yaxis={'title': 'MPG'},\n",
    "                  dragmode='lasso', hovermode='closest')\n",
    "\n",
    "color_toggle = widgets.ToggleButtons(\n",
    "    options=['None', 'Red', 'Blue'],\n",
    "    index=1, description='Brush Color:', disabled=False)\n",
    "\n",
    "def update_color(trace, points, state):\n",
    "    new_color = np.array(fig.data[0].marker.color)\n",
    "    new_color[points.point_inds] = color_toggle.index\n",
    "\n",
    "    with fig.batch_update():\n",
    "        fig.data[0].marker.color = new_color\n",
    "        fig.data[1].line.color = new_color\n",
    "\n",
    "fig.data[0].on_selection(update_color)\n",
    "fig.data[1].on_click(update_color)\n",
    "\n",
    "widgets.VBox([color_toggle, fig])"
   ]
  },
  {
   "cell_type": "code",
   "execution_count": null,
   "id": "5b401a1a-3027-485a-9db0-8c9fa1e2819e",
   "metadata": {},
   "outputs": [],
   "source": []
  }
 ],
 "metadata": {
  "kernelspec": {
   "display_name": "Python 3 (ipykernel)",
   "language": "python",
   "name": "python3"
  },
  "language_info": {
   "codemirror_mode": {
    "name": "ipython",
    "version": 3
   },
   "file_extension": ".py",
   "mimetype": "text/x-python",
   "name": "python",
   "nbconvert_exporter": "python",
   "pygments_lexer": "ipython3",
   "version": "3.9.7"
  }
 },
 "nbformat": 4,
 "nbformat_minor": 5
}
