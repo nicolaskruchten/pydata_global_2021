{
 "cells": [
  {
   "cell_type": "markdown",
   "id": "818c2266-f931-4337-9b39-56753e339283",
   "metadata": {},
   "source": [
    "From https://ipywidgets.readthedocs.io/en/latest/examples/Using%20Interact.html"
   ]
  },
  {
   "cell_type": "code",
   "execution_count": null,
   "id": "4cf734f0-5f87-40f3-959c-3719750de2d3",
   "metadata": {},
   "outputs": [],
   "source": [
    "import plotly.express as px\n",
    "\n",
    "df = px.data.stocks(datetimes=True, indexed=True)"
   ]
  },
  {
   "cell_type": "code",
   "execution_count": null,
   "id": "2e0368dc-7faa-4bc2-a782-77aafcb0efbb",
   "metadata": {},
   "outputs": [],
   "source": [
    "px.scatter(df, trendline=\"rolling\", trendline_options=dict(window=5), height=600)"
   ]
  },
  {
   "cell_type": "code",
   "execution_count": null,
   "id": "062524c1-778e-493f-bbcf-e12ceb396f0e",
   "metadata": {},
   "outputs": [],
   "source": [
    "from ipywidgets import interact\n",
    "\n",
    "@interact\n",
    "def make_fig(window=5):\n",
    "    return px.scatter(df, trendline=\"rolling\", trendline_options=dict(window=window), height=600)"
   ]
  },
  {
   "cell_type": "code",
   "execution_count": null,
   "id": "60eec1b6-dbd4-4709-94a9-99f2cf6bbca2",
   "metadata": {},
   "outputs": [],
   "source": [
    "from ipywidgets import interact\n",
    "\n",
    "df2 = px.data.tips()\n",
    "\n",
    "@interact\n",
    "def make_fig(x=df2.columns, y=df2.columns, c=df2.columns):\n",
    "    return px.scatter(df2, x=x, y=y, color=c, height=600)"
   ]
  },
  {
   "cell_type": "code",
   "execution_count": null,
   "id": "38e9f504-cfe2-4d05-8d9d-f5ed092a4ddb",
   "metadata": {},
   "outputs": [],
   "source": []
  }
 ],
 "metadata": {
  "kernelspec": {
   "display_name": "Python 3 (ipykernel)",
   "language": "python",
   "name": "python3"
  },
  "language_info": {
   "codemirror_mode": {
    "name": "ipython",
    "version": 3
   },
   "file_extension": ".py",
   "mimetype": "text/x-python",
   "name": "python",
   "nbconvert_exporter": "python",
   "pygments_lexer": "ipython3",
   "version": "3.9.7"
  }
 },
 "nbformat": 4,
 "nbformat_minor": 5
}
