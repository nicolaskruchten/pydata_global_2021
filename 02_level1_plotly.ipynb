{
 "cells": [
  {
   "cell_type": "code",
   "execution_count": null,
   "id": "4cf734f0-5f87-40f3-959c-3719750de2d3",
   "metadata": {},
   "outputs": [],
   "source": [
    "import plotly.express as px\n",
    "\n",
    "df = px.data.stocks(datetimes=True, indexed=True)"
   ]
  },
  {
   "cell_type": "code",
   "execution_count": null,
   "id": "2e0368dc-7faa-4bc2-a782-77aafcb0efbb",
   "metadata": {},
   "outputs": [],
   "source": [
    "px.scatter(df, trendline=\"rolling\", trendline_options=dict(window=5), height=600)"
   ]
  },
  {
   "cell_type": "code",
   "execution_count": null,
   "id": "062524c1-778e-493f-bbcf-e12ceb396f0e",
   "metadata": {},
   "outputs": [],
   "source": [
    "from ipywidgets import interact\n",
    "\n",
    "@interact\n",
    "def make_fig(window=5):\n",
    "    return px.scatter(df, trendline=\"rolling\", trendline_options=dict(window=window), height=600)"
   ]
  },
  {
   "cell_type": "code",
   "execution_count": null,
   "id": "60eec1b6-dbd4-4709-94a9-99f2cf6bbca2",
   "metadata": {},
   "outputs": [],
   "source": []
  }
 ],
 "metadata": {
  "kernelspec": {
   "display_name": "Python 3 (ipykernel)",
   "language": "python",
   "name": "python3"
  },
  "language_info": {
   "codemirror_mode": {
    "name": "ipython",
    "version": 3
   },
   "file_extension": ".py",
   "mimetype": "text/x-python",
   "name": "python",
   "nbconvert_exporter": "python",
   "pygments_lexer": "ipython3",
   "version": "3.9.7"
  }
 },
 "nbformat": 4,
 "nbformat_minor": 5
}
