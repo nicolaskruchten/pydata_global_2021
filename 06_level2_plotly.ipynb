{
 "cells": [
  {
   "cell_type": "markdown",
   "id": "bf5334f8-67e0-494c-8985-71557b8a8ce1",
   "metadata": {},
   "source": [
    "From https://plotly.com/python (various)"
   ]
  },
  {
   "cell_type": "code",
   "execution_count": null,
   "id": "e1bc6076-d042-4fea-b7f6-a4574faf1a17",
   "metadata": {},
   "outputs": [],
   "source": [
    "import plotly.express as px"
   ]
  },
  {
   "cell_type": "code",
   "execution_count": null,
   "id": "0169f190-bebd-4098-a4a1-b2ffd550bbdd",
   "metadata": {},
   "outputs": [],
   "source": [
    "df = px.data.gapminder(year=2007)\n",
    "px.scatter(df, x=\"gdpPercap\", y=\"lifeExp\", color=\"continent\", size=\"pop\", template=\"simple_white\",\n",
    "           hover_name=\"country\", size_max=60, log_x=True, height=600).update_layout(hovermode=False)"
   ]
  },
  {
   "cell_type": "code",
   "execution_count": null,
   "id": "591d777a-c846-4032-8b11-7db6c8d3b74f",
   "metadata": {},
   "outputs": [],
   "source": [
    "import pandas as pd\n",
    "df = pd.read_csv('https://raw.githubusercontent.com/plotly/datasets/master/earthquakes-23k.csv')\n",
    "\n",
    "import plotly.express as px\n",
    "fig = px.density_mapbox(df, lat='Latitude', lon='Longitude', z='Magnitude', radius=10,\n",
    "                        center=dict(lat=0, lon=180), zoom=0, hover_name=\"Date\",\n",
    "                        mapbox_style=\"stamen-terrain\", height=600,\n",
    "                       color_continuous_scale=\"magma\")\n",
    "fig.show()"
   ]
  },
  {
   "cell_type": "code",
   "execution_count": null,
   "id": "7874dab0-e340-455d-bb41-45080878b832",
   "metadata": {},
   "outputs": [],
   "source": [
    "df = px.data.gapminder(year=2007)\n",
    "px.sunburst(df, path=[\"continent\", \"country\"], values=\"pop\", color=\"lifeExp\", height=600,\n",
    "           color_continuous_scale=\"viridis\")"
   ]
  },
  {
   "cell_type": "code",
   "execution_count": null,
   "id": "8708d5e3-9b06-4b73-954f-f1b4716471c6",
   "metadata": {},
   "outputs": [],
   "source": [
    "import pandas as pd\n",
    "cars_df = pd.read_csv('https://raw.githubusercontent.com/plotly/datasets/master/imports-85.csv')\n",
    "cars_df = cars_df[[\"price\", \"num-of-cylinders\", \"horsepower\", \"highway-mpg\", \"city-mpg\", \"curb-weight\", \"wheel-base\", \n",
    "                                    \"compression-ratio\", \"make\"]]\n",
    "\n",
    "px.parallel_coordinates(cars_df, color=\"price\", height=600)"
   ]
  },
  {
   "cell_type": "code",
   "execution_count": null,
   "id": "9f660f1e-5523-4700-a5ae-7153db73a84a",
   "metadata": {},
   "outputs": [],
   "source": [
    "px.scatter_matrix(cars_df, hover_name=\"make\", color=\"price\", height=800)"
   ]
  },
  {
   "cell_type": "code",
   "execution_count": null,
   "id": "0228a5c5-e197-4da3-adea-a3b0117256e9",
   "metadata": {},
   "outputs": [],
   "source": []
  }
 ],
 "metadata": {
  "kernelspec": {
   "display_name": "Python 3 (ipykernel)",
   "language": "python",
   "name": "python3"
  },
  "language_info": {
   "codemirror_mode": {
    "name": "ipython",
    "version": 3
   },
   "file_extension": ".py",
   "mimetype": "text/x-python",
   "name": "python",
   "nbconvert_exporter": "python",
   "pygments_lexer": "ipython3",
   "version": "3.9.7"
  }
 },
 "nbformat": 4,
 "nbformat_minor": 5
}
