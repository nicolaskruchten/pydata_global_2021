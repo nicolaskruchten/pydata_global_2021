{
 "cells": [
  {
   "cell_type": "markdown",
   "id": "2ef0ead9-dd7b-4e86-962e-8ba5b6b8c17a",
   "metadata": {},
   "source": [
    "From https://seaborn.pydata.org/generated/seaborn.scatterplot.html and https://seaborn.pydata.org/generated/seaborn.lmplot.html"
   ]
  },
  {
   "cell_type": "code",
   "execution_count": null,
   "id": "c9ec77e3-3246-4895-a74b-800deeab2ec5",
   "metadata": {},
   "outputs": [],
   "source": [
    "import seaborn as sns\n",
    "%config InlineBackend.figure_format = 'retina'\n",
    "sns.set(rc={'figure.figsize':(11.7,8.27)})\n",
    "\n",
    "tips = sns.load_dataset(\"tips\")\n"
   ]
  },
  {
   "cell_type": "code",
   "execution_count": null,
   "id": "79103571-6829-46fa-8a68-c1e2b3d74355",
   "metadata": {},
   "outputs": [],
   "source": [
    "sns.lmplot(data=tips, x=\"total_bill\", y=\"tip\", hue=\"smoker\", col=\"time\", row=\"day\")"
   ]
  },
  {
   "cell_type": "code",
   "execution_count": null,
   "id": "e2cdd75c-35ef-4157-b392-3e800f66506c",
   "metadata": {},
   "outputs": [],
   "source": []
  }
 ],
 "metadata": {
  "kernelspec": {
   "display_name": "Python 3 (ipykernel)",
   "language": "python",
   "name": "python3"
  },
  "language_info": {
   "codemirror_mode": {
    "name": "ipython",
    "version": 3
   },
   "file_extension": ".py",
   "mimetype": "text/x-python",
   "name": "python",
   "nbconvert_exporter": "python",
   "pygments_lexer": "ipython3",
   "version": "3.9.7"
  }
 },
 "nbformat": 4,
 "nbformat_minor": 5
}
