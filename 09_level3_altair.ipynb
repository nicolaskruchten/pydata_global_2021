{
 "cells": [
  {
   "cell_type": "markdown",
   "id": "a1e9a991-a8cf-4953-87ef-6b5ccbbc7bdd",
   "metadata": {},
   "source": [
    "From https://altair-viz.github.io/gallery/selection_histogram.html"
   ]
  },
  {
   "cell_type": "code",
   "execution_count": null,
   "id": "6c5f1f82-8dbf-43be-90d4-49e82a6488d7",
   "metadata": {},
   "outputs": [],
   "source": [
    "import altair as alt\n",
    "from vega_datasets import data\n",
    "\n",
    "source = data.cars()\n",
    "\n",
    "brush = alt.selection(type='interval')\n",
    "brush2 = alt.selection(type='interval')\n",
    "brush3 = alt.selection(type='interval')\n",
    "\n",
    "points = alt.Chart(source).mark_point().encode(\n",
    "    x='Weight_in_lbs:Q',\n",
    "    y='Acceleration:Q',\n",
    "    color=alt.condition(brush2, 'Origin:N', alt.value('lightgray')),\n",
    "    tooltip=['Name', 'Year', 'Origin', 'Horsepower', 'Miles_per_Gallon']\n",
    ").add_selection(brush).transform_filter(brush3)\n",
    "\n",
    "points2 = alt.Chart(source).mark_point().encode(\n",
    "    x='Horsepower:Q',\n",
    "    y='Miles_per_Gallon:Q',\n",
    "    color=alt.condition(brush2, 'Origin:N', alt.value('lightgray')),\n",
    "    tooltip=['Name', 'Year', 'Origin', 'Horsepower', 'Miles_per_Gallon']\n",
    ").add_selection(brush3).transform_filter(brush)\n",
    "\n",
    "bars = alt.Chart(source).mark_bar().encode(\n",
    "    x='Year:T',\n",
    "    color=alt.condition(brush2, 'Origin:N', alt.value('lightgray')),\n",
    "    y='count(Origin):Q'\n",
    ").add_selection(brush2)\n",
    "\n",
    "bars | points | points2"
   ]
  },
  {
   "cell_type": "code",
   "execution_count": null,
   "id": "524fa1d6-156c-46d5-a1aa-c571abdc94b0",
   "metadata": {},
   "outputs": [],
   "source": []
  }
 ],
 "metadata": {
  "kernelspec": {
   "display_name": "Python 3 (ipykernel)",
   "language": "python",
   "name": "python3"
  },
  "language_info": {
   "codemirror_mode": {
    "name": "ipython",
    "version": 3
   },
   "file_extension": ".py",
   "mimetype": "text/x-python",
   "name": "python",
   "nbconvert_exporter": "python",
   "pygments_lexer": "ipython3",
   "version": "3.9.7"
  }
 },
 "nbformat": 4,
 "nbformat_minor": 5
}
