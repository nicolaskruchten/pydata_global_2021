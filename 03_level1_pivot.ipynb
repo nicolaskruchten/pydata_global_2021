{
 "cells": [
  {
   "cell_type": "markdown",
   "id": "7f172270-ee41-4c21-9339-1a4685db6b5b",
   "metadata": {},
   "source": [
    "From https://github.com/nicolaskruchten/jupyter_pivottablejs"
   ]
  },
  {
   "cell_type": "code",
   "execution_count": null,
   "id": "1e0b14b2-ae91-47b4-9d56-eab23b0871ab",
   "metadata": {},
   "outputs": [],
   "source": [
    "from plotly.data import tips\n",
    "from pivottablejs import pivot_ui\n",
    "\n",
    "df = tips()\n",
    "pivot_ui(df)"
   ]
  },
  {
   "cell_type": "code",
   "execution_count": null,
   "id": "06fe8205-d08f-43bd-81f7-bba8cf1a04f8",
   "metadata": {},
   "outputs": [],
   "source": [
    "pivot_ui(df, cols=[\"day\", \"time\"], rows=[\"sex\", \"smoker\"], rendererName=\"Heatmap\",\n",
    "         aggregatorName=\"Sum over Sum\", vals=[\"tip\", \"total_bill\"],\n",
    "        outfile_path=\"preloaded.html\")"
   ]
  },
  {
   "cell_type": "code",
   "execution_count": null,
   "id": "4593fd10-a4f5-4f3c-b7be-07d1abb03740",
   "metadata": {},
   "outputs": [],
   "source": []
  }
 ],
 "metadata": {
  "kernelspec": {
   "display_name": "Python 3 (ipykernel)",
   "language": "python",
   "name": "python3"
  },
  "language_info": {
   "codemirror_mode": {
    "name": "ipython",
    "version": 3
   },
   "file_extension": ".py",
   "mimetype": "text/x-python",
   "name": "python",
   "nbconvert_exporter": "python",
   "pygments_lexer": "ipython3",
   "version": "3.9.7"
  }
 },
 "nbformat": 4,
 "nbformat_minor": 5
}
