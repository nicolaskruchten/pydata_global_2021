{
 "cells": [
  {
   "cell_type": "markdown",
   "id": "8113e92b-ac04-4086-84e7-c310875b641e",
   "metadata": {},
   "source": [
    "From https://matplotlib.org/stable/gallery/widgets/slider_demo.html"
   ]
  },
  {
   "cell_type": "code",
   "execution_count": null,
   "id": "e3754f48-fa25-4296-a6b6-2d18dffa5437",
   "metadata": {},
   "outputs": [],
   "source": [
    "%matplotlib widget"
   ]
  },
  {
   "cell_type": "code",
   "execution_count": null,
   "id": "a9e28f97-7e9a-40ac-a469-e6d6ccec34ff",
   "metadata": {},
   "outputs": [],
   "source": [
    "import numpy as np\n",
    "import matplotlib.pyplot as plt\n",
    "\n",
    "# The parametrized function to be plotted\n",
    "def f(t, amplitude, frequency):\n",
    "    return amplitude * np.sin(2 * np.pi * frequency * t)\n",
    "\n",
    "t = np.linspace(0, 1, 1000)\n",
    "\n",
    "# Define initial parameters\n",
    "init_amplitude = 5\n",
    "init_frequency = 3\n",
    "\n",
    "# Create the figure and the line that we will manipulate\n",
    "fig, ax = plt.subplots()\n",
    "line, = plt.plot(t, f(t, init_amplitude, init_frequency), lw=2)\n",
    "ax.set_xlabel('Time [s]')\n",
    "ax.margins(x=0)\n",
    "plt.show()"
   ]
  },
  {
   "cell_type": "code",
   "execution_count": null,
   "id": "1d143e30-6d2b-43ba-85d3-98092a63060b",
   "metadata": {},
   "outputs": [],
   "source": [
    "from matplotlib.widgets import Slider\n",
    "\n",
    "# adjust the main plot to make room for the sliders\n",
    "plt.subplots_adjust(left=0.25, bottom=0.25)\n",
    "\n",
    "# Make a horizontal slider to control the frequency.\n",
    "axfreq = plt.axes([0.25, 0.1, 0.65, 0.03])\n",
    "freq_slider = Slider(ax=axfreq, label='Frequency [Hz]',\n",
    "    valmin=0.1, valmax=30, valinit=init_frequency)\n",
    "\n",
    "# Make a vertically oriented slider to control the amplitude\n",
    "axamp = plt.axes([0.1, 0.25, 0.0225, 0.63])\n",
    "amp_slider = Slider(ax=axamp, label=\"Amplitude\",\n",
    "    valmin=0, valmax=10, valinit=init_amplitude,\n",
    "    orientation=\"vertical\")\n",
    "\n",
    "# The function to be called anytime a slider's value changes\n",
    "def update(val):\n",
    "    line.set_ydata(f(t, amp_slider.val, freq_slider.val))\n",
    "    fig.canvas.draw_idle()\n",
    "\n",
    "freq_slider.on_changed(update)\n",
    "amp_slider.on_changed(update)"
   ]
  },
  {
   "cell_type": "code",
   "execution_count": null,
   "id": "1ea99aa9-2ea7-406f-83ea-5335655bf6ca",
   "metadata": {},
   "outputs": [],
   "source": []
  }
 ],
 "metadata": {
  "kernelspec": {
   "display_name": "Python 3 (ipykernel)",
   "language": "python",
   "name": "python3"
  },
  "language_info": {
   "codemirror_mode": {
    "name": "ipython",
    "version": 3
   },
   "file_extension": ".py",
   "mimetype": "text/x-python",
   "name": "python",
   "nbconvert_exporter": "python",
   "pygments_lexer": "ipython3",
   "version": "3.9.7"
  }
 },
 "nbformat": 4,
 "nbformat_minor": 5
}
