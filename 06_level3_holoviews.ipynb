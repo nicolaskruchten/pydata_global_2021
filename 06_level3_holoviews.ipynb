{
 "cells": [
  {
   "cell_type": "markdown",
   "id": "8cbdebc4-177d-45e4-9270-485b2c8228cb",
   "metadata": {},
   "source": [
    "From https://holoviews.org/gallery/demos/bokeh/choropleth_data_link.html"
   ]
  },
  {
   "cell_type": "code",
   "execution_count": null,
   "id": "2395b996-ed9e-4e2b-9cf1-8c9fec63c28b",
   "metadata": {},
   "outputs": [],
   "source": [
    "import holoviews as hv\n",
    "from holoviews import opts\n",
    "\n",
    "from holoviews.plotting.links import DataLink\n",
    "\n",
    "hv.extension('bokeh')"
   ]
  },
  {
   "cell_type": "code",
   "execution_count": null,
   "id": "c7f3e2ad-a387-49de-8e09-ccfdd89e6999",
   "metadata": {},
   "outputs": [],
   "source": [
    "from bokeh.sampledata.us_counties import data as counties\n",
    "from bokeh.sampledata.unemployment import data as unemployment\n",
    "\n",
    "counties = [dict(county, Unemployment=unemployment[cid])\n",
    "            for cid, county in counties.items()\n",
    "            if county[\"state\"] == \"tx\"]\n",
    "\n",
    "county_data = [(county['detailed name'], county['Unemployment']) for county in counties]\n",
    "\n",
    "choropleth = hv.Polygons(counties, ['lons', 'lats'], [('detailed name', 'County'), 'Unemployment'], \n",
    "                         label='Texas Unemployment')\n",
    "table = hv.Table(county_data, [('detailed name', 'County'), 'Unemployment'])\n",
    "\n",
    "DataLink(choropleth, table)\n",
    "\n",
    "(choropleth + table).opts(\n",
    "    opts.Table(height=428),\n",
    "    opts.Polygons(width=500, height=500,  tools=['box_select', 'hover', 'tap'], xaxis=None, \n",
    "                  yaxis=None, color_index='Unemployment'))\n"
   ]
  },
  {
   "cell_type": "code",
   "execution_count": null,
   "id": "6a05195f-6c4a-4eda-a418-fc2130c3a9c1",
   "metadata": {},
   "outputs": [],
   "source": []
  }
 ],
 "metadata": {
  "kernelspec": {
   "display_name": "Python 3 (ipykernel)",
   "language": "python",
   "name": "python3"
  },
  "language_info": {
   "codemirror_mode": {
    "name": "ipython",
    "version": 3
   },
   "file_extension": ".py",
   "mimetype": "text/x-python",
   "name": "python",
   "nbconvert_exporter": "python",
   "pygments_lexer": "ipython3",
   "version": "3.9.7"
  }
 },
 "nbformat": 4,
 "nbformat_minor": 5
}
