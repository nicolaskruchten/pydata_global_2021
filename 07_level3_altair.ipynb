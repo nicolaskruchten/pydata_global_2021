{
 "cells": [
  {
   "cell_type": "markdown",
   "id": "a1e9a991-a8cf-4953-87ef-6b5ccbbc7bdd",
   "metadata": {},
   "source": [
    "From https://altair-viz.github.io/gallery/selection_histogram.html"
   ]
  },
  {
   "cell_type": "code",
   "execution_count": null,
   "id": "6c5f1f82-8dbf-43be-90d4-49e82a6488d7",
   "metadata": {},
   "outputs": [],
   "source": [
    "import altair as alt\n",
    "from vega_datasets import data\n",
    "\n",
    "source = data.cars()\n",
    "\n",
    "brush = alt.selection(type='interval')\n",
    "\n",
    "points = alt.Chart(source).mark_point().encode(\n",
    "    x='Horsepower:Q',\n",
    "    y='Miles_per_Gallon:Q',\n",
    "    color=alt.condition(brush, 'Origin:N', alt.value('lightgray')),\n",
    "    tooltip=[\"Name\", \"Year\", \"Miles_per_Gallon\", \"Horsepower\", \"Acceleration\", \"Weight_in_lbs\"]\n",
    ").add_selection(brush)\n",
    "\n",
    "bars = alt.Chart(source).mark_bar().encode(\n",
    "    alt.X('mean(Acceleration):Q',\n",
    "        scale=alt.Scale(domain=(0, 25))\n",
    "    ),\n",
    "    y='Origin:N',\n",
    "    color='Origin:N',\n",
    ").transform_filter(brush)\n",
    "\n",
    "bars2 = alt.Chart(source).mark_bar().encode(\n",
    "    alt.X('mean(Weight_in_lbs):Q',\n",
    "        scale=alt.Scale(domain=(0, 4000))\n",
    "    ),\n",
    "    y='Origin:N',\n",
    "    color='Origin:N',\n",
    ").transform_filter(brush)\n",
    "\n",
    "bars2 = alt.Chart(source).mark_bar().encode(\n",
    "    alt.X('mean(Weight_in_lbs):Q',\n",
    "        scale=alt.Scale(domain=(0, 4000))\n",
    "    ),\n",
    "    y='Origin:N',\n",
    "    color='Origin:N',\n",
    ").transform_filter(brush)\n",
    "\n",
    "hist = alt.Chart(source).mark_bar().encode(\n",
    "    y='Cylinders:N',\n",
    "    color='Origin:N',\n",
    "    x='count(Origin):Q',\n",
    ").transform_filter(brush)\n",
    "\n",
    "points | (bars & bars2 & hist)"
   ]
  },
  {
   "cell_type": "code",
   "execution_count": null,
   "id": "44d14c41-6e58-4d47-bfe7-10783fbd14bc",
   "metadata": {},
   "outputs": [],
   "source": []
  }
 ],
 "metadata": {
  "kernelspec": {
   "display_name": "Python 3 (ipykernel)",
   "language": "python",
   "name": "python3"
  },
  "language_info": {
   "codemirror_mode": {
    "name": "ipython",
    "version": 3
   },
   "file_extension": ".py",
   "mimetype": "text/x-python",
   "name": "python",
   "nbconvert_exporter": "python",
   "pygments_lexer": "ipython3",
   "version": "3.9.7"
  }
 },
 "nbformat": 4,
 "nbformat_minor": 5
}
